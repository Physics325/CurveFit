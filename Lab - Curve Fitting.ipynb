{
 "cells": [
  {
   "cell_type": "markdown",
   "metadata": {},
   "source": [
    "# Lab - Curve fitting in python\n",
    "## Computational Physics - Phy 325\n",
    "An introduction to various curve fitting routines useful for physics work."
   ]
  },
  {
   "cell_type": "code",
   "execution_count": 1,
   "metadata": {
    "collapsed": false
   },
   "outputs": [],
   "source": [
    "import matplotlib.pyplot as plt\n",
    "import numpy as np\n",
    "%matplotlib inline"
   ]
  },
  {
   "cell_type": "markdown",
   "metadata": {},
   "source": [
    "### Lab Instructions:\n",
    "1. Define an `x` array and generate a mock data set by defining a nonlinear function (using `sin`, `cos`, `exp`, or anything that isn't a polynomial). Your function should take at least two parameters as inputs; three is good, more than four may make the fit quite tricky.\n",
    "2. Add some \"noise\" to the data with a random variable. Plot the original function (without noise) and the noisy \"data\".\n",
    "3. Perform a curve fit to your noisy \"data\" and anaylze the error in the fit (i.e. the difference between the fit result and the original (noiseless) function. Compare the fit parameters to your original parameters using the standard deviation in the fit parameters. How close does the fit get to your original parameters? Repeat the analysis to generate new random data and compare again.\n",
    "4. Write a tricky fit and try to break the curve fit routine. A function with several parameters, or multiple features may do it...\n",
    "5. Extract and fit the exponential section of your plot from the DDP dynamics from last weak."
   ]
  }
 ],
 "metadata": {
  "kernelspec": {
   "display_name": "Python 3",
   "language": "python",
   "name": "python3"
  },
  "language_info": {
   "codemirror_mode": {
    "name": "ipython",
    "version": 3
   },
   "file_extension": ".py",
   "mimetype": "text/x-python",
   "name": "python",
   "nbconvert_exporter": "python",
   "pygments_lexer": "ipython3",
   "version": "3.5.1"
  }
 },
 "nbformat": 4,
 "nbformat_minor": 0
}
